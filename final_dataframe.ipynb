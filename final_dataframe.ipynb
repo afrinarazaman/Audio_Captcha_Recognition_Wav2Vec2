{
  "cells": [
    {
      "cell_type": "code",
      "execution_count": 8,
      "metadata": {
        "colab": {
          "base_uri": "https://localhost:8080/"
        },
        "id": "TESmUef_etlK",
        "outputId": "124061f2-0a01-4379-eace-90b94b0dd8af"
      },
      "outputs": [
        {
          "output_type": "stream",
          "name": "stdout",
          "text": [
            "Drive already mounted at /content/drive; to attempt to forcibly remount, call drive.mount(\"/content/drive\", force_remount=True).\n"
          ]
        }
      ],
      "source": [
        "from google.colab import drive\n",
        "drive.mount('/content/drive')"
      ]
    },
    {
      "cell_type": "code",
      "execution_count": 2,
      "metadata": {
        "id": "N1Y2m5mcew1J"
      },
      "outputs": [],
      "source": [
        "import numpy as np\n",
        "import pandas as pd"
      ]
    },
    {
      "cell_type": "code",
      "execution_count": 3,
      "metadata": {
        "id": "h2v35M2IrcLw"
      },
      "outputs": [],
      "source": [
        "SAMPLE_RATE = 16000\n",
        "IMAGE_DIR = \"/content/drive/MyDrive/captchaDatabase/captchas/images\"\n",
        "AUDIO_DIR = \"/content/drive/MyDrive/captchaDatabase/captchas/audio\"\n",
        "CSV_PATH = \"/content/drive/MyDrive/captch_dataset/extracted_image_captcha_data.csv\""
      ]
    },
    {
      "cell_type": "code",
      "execution_count": 4,
      "metadata": {
        "id": "hAk7GZe-rg_S"
      },
      "outputs": [],
      "source": [
        "import os\n",
        "from sklearn.model_selection import train_test_split\n",
        "\n",
        "df = pd.read_csv(CSV_PATH)\n",
        "audio_files = sorted([f for f in os.listdir(AUDIO_DIR) if f.endswith('.wav')])\n",
        "assert len(df) == len(audio_files), \"Mismatch in image and audio file counts\"\n",
        "df['audio_file'] = [os.path.join(AUDIO_DIR, f) for f in audio_files]\n",
        "train_df, test_df = train_test_split(df, train_size=0.8, random_state=42, shuffle=False)"
      ]
    },
    {
      "cell_type": "code",
      "execution_count": 5,
      "metadata": {
        "id": "alNRm7OyspY7"
      },
      "outputs": [],
      "source": [
        "train_waveforms = np.load(\"/content/drive/MyDrive/captch_dataset/train_waveforms.npy\", allow_pickle=True)\n",
        "test_waveforms = np.load(\"/content/drive/MyDrive/captch_dataset/test_waveforms.npy\", allow_pickle=True)"
      ]
    },
    {
      "cell_type": "code",
      "execution_count": null,
      "metadata": {
        "id": "_RkKrxu_rpSk"
      },
      "outputs": [],
      "source": [
        "train_df[\"preprocessed_audio\"] = train_waveforms\n",
        "test_df[\"preprocessed_audio\"] = test_waveforms"
      ]
    },
    {
      "cell_type": "code",
      "execution_count": 7,
      "metadata": {
        "id": "8k1hw-QNsz-_"
      },
      "outputs": [],
      "source": [
        "train_df = train_df[[\"preprocessed_audio\", \"image_text\"]]\n",
        "test_df = test_df[[\"preprocessed_audio\", \"image_text\"]]"
      ]
    },
    {
      "cell_type": "code",
      "execution_count": 9,
      "metadata": {
        "id": "9e3V0f82s1dR"
      },
      "outputs": [],
      "source": [
        "import numpy as np\n",
        "\n",
        "def convert_to_float32(row):\n",
        "    return np.array(row, dtype=np.float32).tolist()\n",
        "\n",
        "for index, row in train_df.iterrows():\n",
        "    train_df.at[index, \"preprocessed_audio\"] = convert_to_float32(row[\"preprocessed_audio\"])\n",
        "\n",
        "for index, row in test_df.iterrows():\n",
        "    test_df.at[index, \"preprocessed_audio\"] = convert_to_float32(row[\"preprocessed_audio\"])\n"
      ]
    },
    {
      "cell_type": "code",
      "execution_count": 10,
      "metadata": {
        "colab": {
          "base_uri": "https://localhost:8080/"
        },
        "id": "fpqLhryBw-8q",
        "outputId": "164a6c88-36e4-4949-96a9-b178f8444903"
      },
      "outputs": [
        {
          "output_type": "execute_result",
          "data": {
            "text/plain": [
              "8000"
            ]
          },
          "metadata": {},
          "execution_count": 10
        }
      ],
      "source": [
        "train_df.head(4)\n",
        "len(train_df)"
      ]
    },
    {
      "cell_type": "code",
      "execution_count": 11,
      "metadata": {
        "id": "_24tyK9rwAcl"
      },
      "outputs": [],
      "source": [
        "import math\n",
        "import pickle\n",
        "import gzip\n",
        "import gc\n",
        "\n",
        "def save_dataframe_in_chunks(df, base_filename, chunk_size=1000):\n",
        "\n",
        "    n_chunks = math.ceil(len(df) / chunk_size)\n",
        "    for i in range(n_chunks):\n",
        "\n",
        "        chunk = df.iloc[i*chunk_size : (i+1)*chunk_size]\n",
        "        chunk_filename = f\"{base_filename}_{i}.pkl.gz\"\n",
        "        with gzip.open(chunk_filename, \"wb\") as f:\n",
        "            pickle.dump(chunk, f, protocol=pickle.HIGHEST_PROTOCOL)\n",
        "        print(f\"Saved chunk {i+1}/{n_chunks} to {chunk_filename}\")\n",
        "\n",
        "        del chunk\n",
        "        gc.collect()"
      ]
    },
    {
      "cell_type": "code",
      "execution_count": null,
      "metadata": {
        "colab": {
          "base_uri": "https://localhost:8080/"
        },
        "id": "3uSK6ZXtvgho",
        "outputId": "65bef01a-3579-494a-fd1d-7ce5d2863d6f"
      },
      "outputs": [
        {
          "metadata": {
            "tags": null
          },
          "name": "stdout",
          "output_type": "stream",
          "text": [
            "Saved chunk 1/8 to /content/drive/MyDrive/captch_dataset/train_df_chunk_0.pkl.gz\n",
            "Saved chunk 2/8 to /content/drive/MyDrive/captch_dataset/train_df_chunk_1.pkl.gz\n",
            "Saved chunk 3/8 to /content/drive/MyDrive/captch_dataset/train_df_chunk_2.pkl.gz\n",
            "Saved chunk 4/8 to /content/drive/MyDrive/captch_dataset/train_df_chunk_3.pkl.gz\n",
            "Saved chunk 5/8 to /content/drive/MyDrive/captch_dataset/train_df_chunk_4.pkl.gz\n"
          ]
        }
      ],
      "source": [
        "\n",
        "save_dataframe_in_chunks(train_df, \"/content/drive/MyDrive/captch_dataset/train_df_chunk\", chunk_size=1000)"
      ]
    },
    {
      "cell_type": "code",
      "execution_count": 18,
      "metadata": {
        "id": "F03nGZWwyllv"
      },
      "outputs": [],
      "source": [
        "import math, pickle, gzip, gc\n",
        "\n",
        "def save_dataframe_in_chunks_with_offset(df, base_filename, chunk_size=1000, offset=0):\n",
        "    n_chunks = math.ceil(len(df) / chunk_size)\n",
        "    for i in range(n_chunks):\n",
        "        chunk = df.iloc[i*chunk_size : (i+1)*chunk_size]\n",
        "        chunk_filename = f\"{base_filename}_{i + offset}.pkl.gz\"\n",
        "        with gzip.open(chunk_filename, \"wb\") as f:\n",
        "            pickle.dump(chunk, f, protocol=pickle.HIGHEST_PROTOCOL)\n",
        "        print(f\"Saved chunk {i + offset + 1} to {chunk_filename}\")\n",
        "        del chunk\n",
        "        gc.collect()"
      ]
    },
    {
      "cell_type": "code",
      "source": [
        "remaining_df = train_df.iloc[5000:]\n",
        "save_dataframe_in_chunks_with_offset(remaining_df, \"/content/drive/MyDrive/captch_dataset/train_df_chunk\", chunk_size=1000, offset=5)"
      ],
      "metadata": {
        "id": "kRWOJ4qW2pbv"
      },
      "execution_count": null,
      "outputs": []
    },
    {
      "cell_type": "code",
      "source": [
        "save_dataframe_in_chunks(test_df, \"/content/drive/MyDrive/captch_dataset/test_df_chunk\", chunk_size=1000)"
      ],
      "metadata": {
        "colab": {
          "base_uri": "https://localhost:8080/"
        },
        "id": "L36pKoeZR5Ea",
        "outputId": "ee3c58a9-4980-404f-ca81-7b78b30aba28"
      },
      "execution_count": 13,
      "outputs": [
        {
          "output_type": "stream",
          "name": "stdout",
          "text": [
            "Saved chunk 1/2 to /content/drive/MyDrive/captch_dataset/test_df_chunk_0.pkl.gz\n",
            "Saved chunk 2/2 to /content/drive/MyDrive/captch_dataset/test_df_chunk_1.pkl.gz\n"
          ]
        }
      ]
    },
    {
      "cell_type": "code",
      "source": [
        "remaining_df = test_df.iloc[1000:]\n",
        "\n",
        "save_dataframe_in_chunks_with_offset(remaining_df, \"/content/drive/MyDrive/captch_dataset/test_df_chunk\", chunk_size=1000, offset=1)"
      ],
      "metadata": {
        "colab": {
          "base_uri": "https://localhost:8080/"
        },
        "id": "uHjurM_zkeDK",
        "outputId": "8780e90b-7308-4677-b0fb-8eb3f8034983"
      },
      "execution_count": 19,
      "outputs": [
        {
          "output_type": "stream",
          "name": "stdout",
          "text": [
            "Saved chunk 2 to /content/drive/MyDrive/captch_dataset/test_df_chunk_1.pkl.gz\n"
          ]
        }
      ]
    },
    {
      "cell_type": "code",
      "source": [],
      "metadata": {
        "id": "sHDbjCA02Kdk"
      },
      "execution_count": null,
      "outputs": []
    }
  ],
  "metadata": {
    "colab": {
      "machine_shape": "hm",
      "provenance": []
    },
    "kernelspec": {
      "display_name": "Python 3",
      "name": "python3"
    },
    "language_info": {
      "name": "python"
    }
  },
  "nbformat": 4,
  "nbformat_minor": 0
}